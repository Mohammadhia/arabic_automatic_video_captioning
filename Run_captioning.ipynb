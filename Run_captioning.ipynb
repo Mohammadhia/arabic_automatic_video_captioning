{
  "nbformat": 4,
  "nbformat_minor": 0,
  "metadata": {
    "colab": {
      "name": "Run_captioning.ipynb",
      "provenance": [],
      "collapsed_sections": [],
      "toc_visible": true
    },
    "kernelspec": {
      "name": "python3",
      "display_name": "Python 3"
    },
    "accelerator": "GPU"
  },
  "cells": [
    {
      "cell_type": "markdown",
      "metadata": {
        "id": "hZ4P2j0P08ZV"
      },
      "source": [
        "### **Before you begin, make sure to connect to a GPU runtime (go to Runtime -> Change runtime type -> pick GPU as hardware accelerator and save -> Then click \"Connect\" in the top right corner of main page**"
      ]
    },
    {
      "cell_type": "markdown",
      "metadata": {
        "id": "Ga3_ftIWzX-B"
      },
      "source": [
        "Run to make sure you can use CuPy library (a dependency for this project)"
      ]
    },
    {
      "cell_type": "code",
      "metadata": {
        "id": "D2VTJHJZpPW2"
      },
      "source": [
        "import cupy as cp"
      ],
      "execution_count": null,
      "outputs": []
    },
    {
      "cell_type": "code",
      "metadata": {
        "colab": {
          "base_uri": "https://localhost:8080/"
        },
        "id": "EZN1uj7HpXE_",
        "outputId": "21f2f29a-77f9-4d61-c1d1-1cc79c1649f6"
      },
      "source": [
        "z = cp.arange(6).reshape(2, 3).astype('f')\n",
        "z"
      ],
      "execution_count": null,
      "outputs": [
        {
          "output_type": "execute_result",
          "data": {
            "text/plain": [
              "array([[0., 1., 2.],\n",
              "       [3., 4., 5.]], dtype=float32)"
            ]
          },
          "metadata": {
            "tags": []
          },
          "execution_count": 2
        }
      ]
    },
    {
      "cell_type": "markdown",
      "metadata": {
        "id": "Ewvez0TL-Pys"
      },
      "source": [
        "## Run code needed to use conda"
      ]
    },
    {
      "cell_type": "code",
      "metadata": {
        "id": "Z_A7fpjEpZGd"
      },
      "source": [
        "%%bash\n",
        "MINICONDA_INSTALLER_SCRIPT=Miniconda3-4.5.4-Linux-x86_64.sh\n",
        "MINICONDA_PREFIX=/usr/local\n",
        "wget https://repo.continuum.io/miniconda/$MINICONDA_INSTALLER_SCRIPT\n",
        "chmod +x $MINICONDA_INSTALLER_SCRIPT\n",
        "./$MINICONDA_INSTALLER_SCRIPT -b -f -p $MINICONDA_PREFIX"
      ],
      "execution_count": null,
      "outputs": []
    },
    {
      "cell_type": "code",
      "metadata": {
        "colab": {
          "base_uri": "https://localhost:8080/"
        },
        "id": "c-R8LQUfpe1r",
        "outputId": "8c9e4eea-5a6c-4dae-d390-03298274694c"
      },
      "source": [
        "!which conda # should return /usr/local/bin/conda"
      ],
      "execution_count": null,
      "outputs": [
        {
          "output_type": "stream",
          "text": [
            "/usr/local/bin/conda\n"
          ],
          "name": "stdout"
        }
      ]
    },
    {
      "cell_type": "code",
      "metadata": {
        "colab": {
          "base_uri": "https://localhost:8080/"
        },
        "id": "N2phvu93pf-q",
        "outputId": "4a4b0027-d2a3-4c10-a71e-0ad3d7b868fc"
      },
      "source": [
        "!conda --version "
      ],
      "execution_count": null,
      "outputs": [
        {
          "output_type": "stream",
          "text": [
            "conda 4.5.4\n"
          ],
          "name": "stdout"
        }
      ]
    },
    {
      "cell_type": "code",
      "metadata": {
        "colab": {
          "base_uri": "https://localhost:8080/"
        },
        "id": "DqEnTCSDphHT",
        "outputId": "ee4d0dd8-f464-4640-8038-75071fcfb42a"
      },
      "source": [
        "!which python # still returns /usr/local/bin/python"
      ],
      "execution_count": null,
      "outputs": [
        {
          "output_type": "stream",
          "text": [
            "/usr/local/bin/python\n"
          ],
          "name": "stdout"
        }
      ]
    },
    {
      "cell_type": "code",
      "metadata": {
        "colab": {
          "base_uri": "https://localhost:8080/"
        },
        "id": "_dUaKCgqpjDr",
        "outputId": "3531fdc5-b92a-4d53-ef49-23a03748264c"
      },
      "source": [
        "!python --version "
      ],
      "execution_count": null,
      "outputs": [
        {
          "output_type": "stream",
          "text": [
            "Python 3.6.5 :: Anaconda, Inc.\n"
          ],
          "name": "stdout"
        }
      ]
    },
    {
      "cell_type": "code",
      "metadata": {
        "id": "SgJrSVOVpkbz"
      },
      "source": [
        "%%bash\n",
        "conda install --channel defaults conda python=3.6 --yes\n",
        "conda update --channel defaults --all --yes"
      ],
      "execution_count": null,
      "outputs": []
    },
    {
      "cell_type": "code",
      "metadata": {
        "colab": {
          "base_uri": "https://localhost:8080/"
        },
        "id": "N77YW07lpmhx",
        "outputId": "76d51df2-2080-4959-ed99-df67e5aba7d2"
      },
      "source": [
        "!conda --version "
      ],
      "execution_count": null,
      "outputs": [
        {
          "output_type": "stream",
          "text": [
            "conda 4.9.2\n"
          ],
          "name": "stdout"
        }
      ]
    },
    {
      "cell_type": "code",
      "metadata": {
        "colab": {
          "base_uri": "https://localhost:8080/"
        },
        "id": "0TfAS9uopn0x",
        "outputId": "3790bc92-8877-43da-8bd7-39911cca8459"
      },
      "source": [
        "!python --version"
      ],
      "execution_count": null,
      "outputs": [
        {
          "output_type": "stream",
          "text": [
            "Python 3.6.12 :: Anaconda, Inc.\n"
          ],
          "name": "stdout"
        }
      ]
    },
    {
      "cell_type": "code",
      "metadata": {
        "colab": {
          "base_uri": "https://localhost:8080/"
        },
        "id": "8h5le_BtppMi",
        "outputId": "2b38f039-3755-4aaa-e748-29c05fa381c6"
      },
      "source": [
        "import sys\n",
        "sys.path"
      ],
      "execution_count": null,
      "outputs": [
        {
          "output_type": "execute_result",
          "data": {
            "text/plain": [
              "['',\n",
              " '/env/python',\n",
              " '/usr/lib/python36.zip',\n",
              " '/usr/lib/python3.6',\n",
              " '/usr/lib/python3.6/lib-dynload',\n",
              " '/usr/local/lib/python3.6/dist-packages',\n",
              " '/usr/lib/python3/dist-packages',\n",
              " '/usr/local/lib/python3.6/dist-packages/IPython/extensions',\n",
              " '/root/.ipython']"
            ]
          },
          "metadata": {
            "tags": []
          },
          "execution_count": 11
        }
      ]
    },
    {
      "cell_type": "code",
      "metadata": {
        "id": "sEtFKaJMprLR"
      },
      "source": [
        "!ls /usr/local/lib/python3.6/dist-packages"
      ],
      "execution_count": null,
      "outputs": []
    },
    {
      "cell_type": "code",
      "metadata": {
        "id": "N91YEAEPpsj5"
      },
      "source": [
        "import sys\n",
        "_ = (sys.path\n",
        "        .append(\"/usr/local/lib/python3.6/site-packages\"))"
      ],
      "execution_count": null,
      "outputs": []
    },
    {
      "cell_type": "markdown",
      "metadata": {
        "id": "rG7qwObZp6ib"
      },
      "source": [
        "## BEGIN BMT CODE"
      ]
    },
    {
      "cell_type": "code",
      "metadata": {
        "colab": {
          "base_uri": "https://localhost:8080/"
        },
        "id": "TqQyDV9xpxz-",
        "outputId": "3c1f5737-0b70-46e4-dc28-4b898755c0ee"
      },
      "source": [
        "!git clone --recursive https://github.com/v-iashin/BMT.git"
      ],
      "execution_count": null,
      "outputs": [
        {
          "output_type": "stream",
          "text": [
            "Cloning into 'BMT'...\n",
            "remote: Enumerating objects: 123, done.\u001b[K\n",
            "remote: Total 123 (delta 0), reused 0 (delta 0), pack-reused 123\u001b[K\n",
            "Receiving objects: 100% (123/123), 13.26 MiB | 23.04 MiB/s, done.\n",
            "Resolving deltas: 100% (47/47), done.\n",
            "Submodule 'submodules/pycocoevalcap' (https://github.com/salaniz/pycocoevalcap.git) registered for path 'submodules/pycocoevalcap'\n",
            "Submodule 'submodules/video_features' (https://github.com/v-iashin/video_features.git) registered for path 'submodules/video_features'\n",
            "Cloning into '/content/BMT/submodules/pycocoevalcap'...\n",
            "remote: Enumerating objects: 11, done.        \n",
            "remote: Counting objects: 100% (11/11), done.        \n",
            "remote: Compressing objects: 100% (10/10), done.        \n",
            "remote: Total 808 (delta 1), reused 6 (delta 1), pack-reused 797        \n",
            "Receiving objects: 100% (808/808), 130.05 MiB | 40.22 MiB/s, done.\n",
            "Resolving deltas: 100% (420/420), done.\n",
            "Cloning into '/content/BMT/submodules/video_features'...\n",
            "remote: Enumerating objects: 365, done.        \n",
            "remote: Counting objects: 100% (365/365), done.        \n",
            "remote: Compressing objects: 100% (228/228), done.        \n",
            "remote: Total 395 (delta 145), reused 312 (delta 95), pack-reused 30        \n",
            "Receiving objects: 100% (395/395), 162.69 MiB | 40.58 MiB/s, done.\n",
            "Resolving deltas: 100% (146/146), done.\n",
            "Submodule path 'submodules/pycocoevalcap': checked out 'ca1b05fa0e99f86de2259f87d43c72b322523731'\n",
            "Submodule path 'submodules/video_features': checked out '4fa02bd5c5b8c34081dcfb609e2bcd5a973eaab2'\n"
          ],
          "name": "stdout"
        }
      ]
    },
    {
      "cell_type": "markdown",
      "metadata": {
        "id": "rOKbORdVqAaP"
      },
      "source": [
        "Navigate to BMT folder"
      ]
    },
    {
      "cell_type": "code",
      "metadata": {
        "colab": {
          "base_uri": "https://localhost:8080/"
        },
        "id": "fKU9k4nVp9OG",
        "outputId": "394e31a0-1c31-48da-9040-c78cebe35788"
      },
      "source": [
        "%cd BMT"
      ],
      "execution_count": null,
      "outputs": [
        {
          "output_type": "stream",
          "text": [
            "/content/BMT\n"
          ],
          "name": "stdout"
        }
      ]
    },
    {
      "cell_type": "code",
      "metadata": {
        "colab": {
          "base_uri": "https://localhost:8080/"
        },
        "id": "nuoVylJqqCjl",
        "outputId": "43ebaa41-f3eb-4ca5-a997-8ce0814460e3"
      },
      "source": [
        "!ls"
      ],
      "execution_count": null,
      "outputs": [
        {
          "output_type": "stream",
          "text": [
            "conda_env.yml  download_data.sh  loss\t  README.md  scripts\n",
            "data\t       epoch_loops\t main.py  results    submodules\n",
            "datasets       evaluation\t model\t  sample     utilities\n"
          ],
          "name": "stdout"
        }
      ]
    },
    {
      "cell_type": "markdown",
      "metadata": {
        "id": "wyCmh6OIqIRM"
      },
      "source": [
        "Bash command below downloads features (I3D and VGGish) and word embeddings (GloVe). The script will download them (~10 GB) and unpack into ./data and ./.vector_cache folders. Make sure to run it while being in BMT folder.\n",
        "\n",
        "**TAKES ~15-20 MINUTES**\n",
        "\n",
        "**DISCLAIMER: Can skip this command altogether if you don't have enough Disk space. I skipped it since I ran out of disk space later on when I downloaded it and had to restart the runtime and notebook in order to get results.**"
      ]
    },
    {
      "cell_type": "code",
      "metadata": {
        "colab": {
          "base_uri": "https://localhost:8080/"
        },
        "id": "HYqoFyA6qFM1",
        "outputId": "b8b87765-a936-443d-8e64-f98e2988a9fa"
      },
      "source": [
        "%%bash\n",
        "./download_data.sh"
      ],
      "execution_count": null,
      "outputs": [
        {
          "output_type": "stream",
          "text": [
            "Downloading i3d features\n",
            "Downloading vggish features\n",
            "Downloading GloVe embeddings\n",
            "Checking for correctness of the downloaded files\n",
            "OK: i3d features\n",
            "OK: vggish features\n",
            "OK: glove embeddings\n",
            "Unpacking i3d (~1 min)\n",
            "Unpacking vggish features\n",
            "Done\n"
          ],
          "name": "stdout"
        },
        {
          "output_type": "stream",
          "text": [
            "IOPub data rate exceeded.\n",
            "The notebook server will temporarily stop sending output\n",
            "to the client in order to avoid crashing it.\n",
            "To change this limit, set the config variable\n",
            "`--NotebookApp.iopub_data_rate_limit`.\n",
            "\n",
            "Current values:\n",
            "NotebookApp.iopub_data_rate_limit=1000000.0 (bytes/sec)\n",
            "NotebookApp.rate_limit_window=3.0 (secs)\n",
            "\n"
          ],
          "name": "stderr"
        }
      ]
    },
    {
      "cell_type": "markdown",
      "metadata": {
        "id": "lq5qysaZ-X5L"
      },
      "source": [
        "### bmt conda environment commands (from yml file)"
      ]
    },
    {
      "cell_type": "code",
      "metadata": {
        "id": "viYRf_uVqfR0"
      },
      "source": [
        "%%bash\n",
        "conda env create -f ./conda_env.yml"
      ],
      "execution_count": null,
      "outputs": []
    },
    {
      "cell_type": "code",
      "metadata": {
        "colab": {
          "base_uri": "https://localhost:8080/"
        },
        "id": "qm_FpZfLqfiX",
        "outputId": "48fb7912-b5c5-4a37-8401-9792603e1e65"
      },
      "source": [
        "%%bash\n",
        "conda info --envs"
      ],
      "execution_count": null,
      "outputs": [
        {
          "output_type": "stream",
          "text": [
            "# conda environments:\n",
            "#\n",
            "base                  *  /usr/local\n",
            "bmt                      /usr/local/envs/bmt\n",
            "\n"
          ],
          "name": "stdout"
        }
      ]
    },
    {
      "cell_type": "code",
      "metadata": {
        "id": "IG9N4d9oqhMn"
      },
      "source": [
        "%%bash\n",
        "source activate bmt"
      ],
      "execution_count": null,
      "outputs": []
    },
    {
      "cell_type": "code",
      "metadata": {
        "id": "x6hljM0zqi5X"
      },
      "source": [
        "!pip install spacy"
      ],
      "execution_count": null,
      "outputs": []
    },
    {
      "cell_type": "code",
      "metadata": {
        "id": "rhMj8fs3qkIO"
      },
      "source": [
        "%%bash\n",
        "# install spacy language model. Make sure you activated the conda environment\n",
        "python -m spacy download en"
      ],
      "execution_count": null,
      "outputs": []
    },
    {
      "cell_type": "markdown",
      "metadata": {
        "id": "4exzaIKA0tJY"
      },
      "source": [
        "### Navigate to sample folder and download pretrained models"
      ]
    },
    {
      "cell_type": "code",
      "metadata": {
        "colab": {
          "base_uri": "https://localhost:8080/"
        },
        "id": "TrjvsssKqstp",
        "outputId": "2b48a2a5-ab5e-49be-a7e0-755e3c2fdbfe"
      },
      "source": [
        "%cd sample #Should be /content/BMT/sample"
      ],
      "execution_count": null,
      "outputs": [
        {
          "output_type": "stream",
          "text": [
            "/content/BMT/sample\n"
          ],
          "name": "stdout"
        }
      ]
    },
    {
      "cell_type": "code",
      "metadata": {
        "id": "bcp0lCkxz7vU"
      },
      "source": [
        "%%bash\n",
        "wget https://a3s.fi/swift/v1/AUTH_a235c0f452d648828f745589cde1219a/bmt/best_cap_model.pt"
      ],
      "execution_count": null,
      "outputs": []
    },
    {
      "cell_type": "code",
      "metadata": {
        "id": "vc0yScZN0DMr"
      },
      "source": [
        "%%bash\n",
        "wget https://a3s.fi/swift/v1/AUTH_a235c0f452d648828f745589cde1219a/bmt/best_prop_model.pt"
      ],
      "execution_count": null,
      "outputs": []
    },
    {
      "cell_type": "markdown",
      "metadata": {
        "id": "gvLhW3ij1Q28"
      },
      "source": [
        "### Make directory for test video and files needed to generate captions"
      ]
    },
    {
      "cell_type": "markdown",
      "metadata": {
        "id": "SLJr8-91oPG_"
      },
      "source": [
        "Navigate back to BMT folder"
      ]
    },
    {
      "cell_type": "code",
      "metadata": {
        "colab": {
          "base_uri": "https://localhost:8080/"
        },
        "id": "UOMiA-30ANC6",
        "outputId": "a9e2013f-066d-49a0-d86d-2fc8cd25f20e"
      },
      "source": [
        "%cd .. #Should be /content/BMT"
      ],
      "execution_count": null,
      "outputs": [
        {
          "output_type": "stream",
          "text": [
            "/content/BMT\n"
          ],
          "name": "stdout"
        }
      ]
    },
    {
      "cell_type": "markdown",
      "metadata": {
        "id": "vnf9-uYhnam2"
      },
      "source": [
        "Make a directory called `test` (`BMT/test`) to hold the vggish, rgb, and flow features of the video you want to caption. Then upload (the `.npy` files you got from the I3D and VGGish generation notebooks) from desktop to this folder"
      ]
    },
    {
      "cell_type": "code",
      "metadata": {
        "id": "xFNNMiJy2hWz"
      },
      "source": [
        "!mkdir test"
      ],
      "execution_count": null,
      "outputs": []
    },
    {
      "cell_type": "code",
      "metadata": {
        "colab": {
          "base_uri": "https://localhost:8080/"
        },
        "id": "6Ds-PJ7-1dR8",
        "outputId": "333d4ecb-a94c-4d9b-ea62-0ac240f3fb2e"
      },
      "source": [
        "!ls"
      ],
      "execution_count": null,
      "outputs": [
        {
          "output_type": "stream",
          "text": [
            "conda_env.yml  download_data.sh  loss\t  README.md  scripts\t utilities\n",
            "data\t       epoch_loops\t main.py  results    submodules\n",
            "datasets       evaluation\t model\t  sample     test\n"
          ],
          "name": "stdout"
        }
      ]
    },
    {
      "cell_type": "code",
      "metadata": {
        "id": "rqk8PIjZ1oWR"
      },
      "source": [
        "%%bash\n",
        "source activate bmt"
      ],
      "execution_count": null,
      "outputs": []
    },
    {
      "cell_type": "markdown",
      "metadata": {
        "id": "G_paMljKuUaY"
      },
      "source": [
        "Install the following dependencies/libraries (takes ~2.2 GB of Disk space)\n",
        "\n",
        "**You may need to play around with the dependencies and versions in case something doesn't work. It was very finicky when I tried it out**"
      ]
    },
    {
      "cell_type": "code",
      "metadata": {
        "id": "zJiuLOaG0tRw"
      },
      "source": [
        "%%bash\n",
        "nvcc --version #Check NVIDIA version"
      ],
      "execution_count": null,
      "outputs": []
    },
    {
      "cell_type": "code",
      "metadata": {
        "id": "ub5vg5aD0yw3"
      },
      "source": [
        "!nvidia-smi #Check CUDA version"
      ],
      "execution_count": null,
      "outputs": []
    },
    {
      "cell_type": "code",
      "metadata": {
        "id": "hPL5PyIeVhQ9"
      },
      "source": [
        "!pip install torch==1.5.0+cu101 torchvision==0.6.0+cu101 -f https://download.pytorch.org/whl/torch_stable.html"
      ],
      "execution_count": null,
      "outputs": []
    },
    {
      "cell_type": "code",
      "metadata": {
        "id": "EIFDWgj53CgB"
      },
      "source": [
        "!pip install torchtext==0.6"
      ],
      "execution_count": null,
      "outputs": []
    },
    {
      "cell_type": "code",
      "metadata": {
        "id": "gqo4xmdm3ev1"
      },
      "source": [
        "!pip install sklearn"
      ],
      "execution_count": null,
      "outputs": []
    },
    {
      "cell_type": "code",
      "metadata": {
        "id": "Tfklkwti31Y5"
      },
      "source": [
        "!pip install pandas"
      ],
      "execution_count": null,
      "outputs": []
    },
    {
      "cell_type": "code",
      "metadata": {
        "id": "-gzVm2SjJB2L"
      },
      "source": [
        "pip freeze"
      ],
      "execution_count": null,
      "outputs": []
    },
    {
      "cell_type": "markdown",
      "metadata": {
        "id": "p_1Si2JExB6N"
      },
      "source": [
        "**Make sure to change `duration_in_secs` to match the length of the video you're trying to caption. Also, change `max_prop_per_vid` to match the maximum number of proposed captions you would like for your video**"
      ]
    },
    {
      "cell_type": "markdown",
      "metadata": {
        "id": "m4kLmvvwxZew"
      },
      "source": [
        "**Due to limited disk space, I recommend using a video that's 10 seconds or shorter and to start off `max_prop_per_vid` with value of ~20 and move your way up from there (though you may have luck with other values)**"
      ]
    },
    {
      "cell_type": "markdown",
      "metadata": {
        "id": "OEZ2JxdTxwqW"
      },
      "source": [
        "**Make sure to download the text file that this command writes the results to to your desktop so that you don't lose it when the runtime is disconnected (in this example, it's `skiing_video_output.txt`)**"
      ]
    },
    {
      "cell_type": "code",
      "metadata": {
        "colab": {
          "base_uri": "https://localhost:8080/"
        },
        "id": "rFSzvBK12wAk",
        "outputId": "6e4777ab-90b0-4bcb-f344-43d4b15d5f1c"
      },
      "source": [
        "%%bash\n",
        "python ./sample/single_video_prediction.py \\\n",
        "    --prop_generator_model_path ./sample/best_prop_model.pt \\\n",
        "    --pretrained_cap_model_path ./sample/best_cap_model.pt \\\n",
        "    --vggish_features_path ./test/skiing_video_vggish.npy \\\n",
        "    --rgb_features_path ./test/skiing_video_rgb.npy \\\n",
        "    --flow_features_path ./test/skiing_video_flow.npy \\\n",
        "    --duration_in_secs 8 \\\n",
        "    --device_id 0 \\\n",
        "    --max_prop_per_vid 100 \\\n",
        "    --nms_tiou_thresh 0.4 > ./test/skiing_video_output.txt"
      ],
      "execution_count": null,
      "outputs": [
        {
          "output_type": "stream",
          "text": [
            "tcmalloc: large alloc 2635227136 bytes == 0x56299ce04000 @  0x7f555d71ab6b 0x7f555d73a379 0x7f5505bb304e 0x7f5505bb4f4a 0x7f553eaa20c4 0x7f554ccef5d9 0x56295ec81d45 0x56295ebf9bfb 0x56295ec81bae 0x56295eca425a 0x56295ec7b2ce 0x56295ec7c32c 0x56295ebf9ddf 0x56295ec1847d 0x7f5550a5a62d 0x7f5550a535ed 0x56295ebf9a5a 0x56295ec81a5c 0x56295eca425a 0x56295ec7cfa6 0x56295ec7d896 0x56295ebf981e 0x56295eca58bb 0x56295ec7afd4 0x56295ec7be51 0x56295ec81b35 0x56295eca425a 0x56295ec7afd4 0x56295ec7be51 0x56295ec81b35 0x56295eca5019\n"
          ],
          "name": "stderr"
        }
      ]
    }
  ]
}