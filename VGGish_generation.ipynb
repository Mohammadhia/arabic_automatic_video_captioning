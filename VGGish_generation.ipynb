{
  "nbformat": 4,
  "nbformat_minor": 0,
  "metadata": {
    "colab": {
      "name": "VGGish_generation.ipynb",
      "provenance": [],
      "collapsed_sections": [],
      "toc_visible": true
    },
    "kernelspec": {
      "name": "python3",
      "display_name": "Python 3"
    },
    "accelerator": "GPU"
  },
  "cells": [
    {
      "cell_type": "markdown",
      "metadata": {
        "id": "kNsYVhLc1Yrh"
      },
      "source": [
        "### **Before you begin, make sure to connect to a GPU runtime (go to Runtime -> Change runtime type -> pick GPU as hardware accelerator and save -> Then click \"Connect\" in the top right corner of main page**"
      ]
    },
    {
      "cell_type": "markdown",
      "metadata": {
        "id": "ipNBTuPD1b9Y"
      },
      "source": [
        "Run to make sure you can use CuPy library (a dependency for this project)"
      ]
    },
    {
      "cell_type": "code",
      "metadata": {
        "id": "Kc2HgRZEVg8z"
      },
      "source": [
        "import cupy as cp"
      ],
      "execution_count": null,
      "outputs": []
    },
    {
      "cell_type": "code",
      "metadata": {
        "colab": {
          "base_uri": "https://localhost:8080/"
        },
        "id": "qHMDqE9FVqbW",
        "outputId": "f1664c87-811a-4eb5-f9b7-4d9346d92d17"
      },
      "source": [
        "z = cp.arange(6).reshape(2, 3).astype('f')\n",
        "z"
      ],
      "execution_count": null,
      "outputs": [
        {
          "output_type": "execute_result",
          "data": {
            "text/plain": [
              "array([[0., 1., 2.],\n",
              "       [3., 4., 5.]], dtype=float32)"
            ]
          },
          "metadata": {
            "tags": []
          },
          "execution_count": 2
        }
      ]
    },
    {
      "cell_type": "markdown",
      "metadata": {
        "id": "if0ii-cf1fkp"
      },
      "source": [
        "## Run code needed to use conda"
      ]
    },
    {
      "cell_type": "code",
      "metadata": {
        "id": "ZW_3eQ-uVwTC"
      },
      "source": [
        "%%bash\n",
        "MINICONDA_INSTALLER_SCRIPT=Miniconda3-4.5.4-Linux-x86_64.sh\n",
        "MINICONDA_PREFIX=/usr/local\n",
        "wget https://repo.continuum.io/miniconda/$MINICONDA_INSTALLER_SCRIPT\n",
        "chmod +x $MINICONDA_INSTALLER_SCRIPT\n",
        "./$MINICONDA_INSTALLER_SCRIPT -b -f -p $MINICONDA_PREFIX"
      ],
      "execution_count": null,
      "outputs": []
    },
    {
      "cell_type": "code",
      "metadata": {
        "colab": {
          "base_uri": "https://localhost:8080/"
        },
        "id": "dDuqtObQVyGz",
        "outputId": "6a8d691b-0c36-4d15-d330-ad75b2aa4697"
      },
      "source": [
        "!which conda # should return /usr/local/bin/conda"
      ],
      "execution_count": null,
      "outputs": [
        {
          "output_type": "stream",
          "text": [
            "/usr/local/bin/conda\n"
          ],
          "name": "stdout"
        }
      ]
    },
    {
      "cell_type": "code",
      "metadata": {
        "colab": {
          "base_uri": "https://localhost:8080/"
        },
        "id": "D74v8xSUVzYL",
        "outputId": "82ea5a36-8c4d-4215-c5af-563b293a9018"
      },
      "source": [
        "!conda --version "
      ],
      "execution_count": null,
      "outputs": [
        {
          "output_type": "stream",
          "text": [
            "conda 4.5.4\n"
          ],
          "name": "stdout"
        }
      ]
    },
    {
      "cell_type": "code",
      "metadata": {
        "colab": {
          "base_uri": "https://localhost:8080/"
        },
        "id": "rkzoLnm0V0-7",
        "outputId": "57355fb3-11d8-472b-ec73-c2f943e9c6a5"
      },
      "source": [
        "!which python # still returns /usr/local/bin/python"
      ],
      "execution_count": null,
      "outputs": [
        {
          "output_type": "stream",
          "text": [
            "/usr/local/bin/python\n"
          ],
          "name": "stdout"
        }
      ]
    },
    {
      "cell_type": "code",
      "metadata": {
        "colab": {
          "base_uri": "https://localhost:8080/"
        },
        "id": "mk98BO9eV3TY",
        "outputId": "43dcc7fa-5324-4fb1-d4bd-5c7420f68772"
      },
      "source": [
        "!python --version"
      ],
      "execution_count": null,
      "outputs": [
        {
          "output_type": "stream",
          "text": [
            "Python 3.6.5 :: Anaconda, Inc.\n"
          ],
          "name": "stdout"
        }
      ]
    },
    {
      "cell_type": "code",
      "metadata": {
        "id": "m9yJgwx5V5AZ"
      },
      "source": [
        "%%bash\n",
        "conda install --channel defaults conda python=3.6 --yes\n",
        "conda update --channel defaults --all --yes"
      ],
      "execution_count": null,
      "outputs": []
    },
    {
      "cell_type": "code",
      "metadata": {
        "colab": {
          "base_uri": "https://localhost:8080/"
        },
        "id": "UXqu57YbV6pL",
        "outputId": "d6237127-d60f-4a7d-c3c7-db5a8e3ab91f"
      },
      "source": [
        "!conda --version "
      ],
      "execution_count": null,
      "outputs": [
        {
          "output_type": "stream",
          "text": [
            "conda 4.9.2\n"
          ],
          "name": "stdout"
        }
      ]
    },
    {
      "cell_type": "code",
      "metadata": {
        "colab": {
          "base_uri": "https://localhost:8080/"
        },
        "id": "3LG00sH5V8Wh",
        "outputId": "a60e420a-5a9e-4ef6-bd9b-819deb8f36c0"
      },
      "source": [
        "!python --version"
      ],
      "execution_count": null,
      "outputs": [
        {
          "output_type": "stream",
          "text": [
            "Python 3.6.12 :: Anaconda, Inc.\n"
          ],
          "name": "stdout"
        }
      ]
    },
    {
      "cell_type": "code",
      "metadata": {
        "colab": {
          "base_uri": "https://localhost:8080/"
        },
        "id": "ydBk8zbFV9hi",
        "outputId": "c09fe4ec-70c5-4f35-a4b1-a86d33119b31"
      },
      "source": [
        "import sys\n",
        "sys.path"
      ],
      "execution_count": null,
      "outputs": [
        {
          "output_type": "execute_result",
          "data": {
            "text/plain": [
              "['',\n",
              " '/env/python',\n",
              " '/usr/lib/python36.zip',\n",
              " '/usr/lib/python3.6',\n",
              " '/usr/lib/python3.6/lib-dynload',\n",
              " '/usr/local/lib/python3.6/dist-packages',\n",
              " '/usr/lib/python3/dist-packages',\n",
              " '/usr/local/lib/python3.6/dist-packages/IPython/extensions',\n",
              " '/root/.ipython']"
            ]
          },
          "metadata": {
            "tags": []
          },
          "execution_count": 11
        }
      ]
    },
    {
      "cell_type": "code",
      "metadata": {
        "id": "uiP2196kV-tx"
      },
      "source": [
        "!ls /usr/local/lib/python3.6/dist-packages"
      ],
      "execution_count": null,
      "outputs": []
    },
    {
      "cell_type": "code",
      "metadata": {
        "id": "kc4-GbKjWAuB"
      },
      "source": [
        "import sys\n",
        "_ = (sys.path\n",
        "        .append(\"/usr/local/lib/python3.6/site-packages\"))"
      ],
      "execution_count": null,
      "outputs": []
    },
    {
      "cell_type": "code",
      "metadata": {
        "id": "OwPXsviLWCvh"
      },
      "source": [
        "!conda install --channel conda-forge featuretools --yes"
      ],
      "execution_count": null,
      "outputs": []
    },
    {
      "cell_type": "markdown",
      "metadata": {
        "id": "3zZLImeaY2lH"
      },
      "source": [
        "## VGGish feature extraction begins here"
      ]
    },
    {
      "cell_type": "code",
      "metadata": {
        "colab": {
          "base_uri": "https://localhost:8080/"
        },
        "id": "wbSb96rPWEjA",
        "outputId": "30b8925e-208c-4183-e797-096f51f63da4"
      },
      "source": [
        "!git clone --recursive https://github.com/v-iashin/video_features.git"
      ],
      "execution_count": null,
      "outputs": [
        {
          "output_type": "stream",
          "text": [
            "Cloning into 'video_features'...\n",
            "remote: Enumerating objects: 365, done.\u001b[K\n",
            "remote: Counting objects: 100% (365/365), done.\u001b[K\n",
            "remote: Compressing objects: 100% (228/228), done.\u001b[K\n",
            "remote: Total 395 (delta 145), reused 312 (delta 95), pack-reused 30\u001b[K\n",
            "Receiving objects: 100% (395/395), 162.69 MiB | 40.95 MiB/s, done.\n",
            "Resolving deltas: 100% (146/146), done.\n",
            "Checking out files: 100% (65/65), done.\n"
          ],
          "name": "stdout"
        }
      ]
    },
    {
      "cell_type": "code",
      "metadata": {
        "id": "7WuT9lG1WQs-"
      },
      "source": [
        "%%bash\n",
        "cd ./video_features\n",
        "conda env create -f conda_env_vggish.yml"
      ],
      "execution_count": null,
      "outputs": []
    },
    {
      "cell_type": "code",
      "metadata": {
        "colab": {
          "base_uri": "https://localhost:8080/"
        },
        "id": "n-8FKBTMWh3r",
        "outputId": "91f7ed11-a939-4adb-a029-e171529e8b87"
      },
      "source": [
        "%%bash\n",
        "conda info --envs"
      ],
      "execution_count": null,
      "outputs": [
        {
          "output_type": "stream",
          "text": [
            "# conda environments:\n",
            "#\n",
            "base                  *  /usr/local\n",
            "vggish                   /usr/local/envs/vggish\n",
            "\n"
          ],
          "name": "stdout"
        }
      ]
    },
    {
      "cell_type": "code",
      "metadata": {
        "id": "Gafo1rWwW68-"
      },
      "source": [
        "%%bash\n",
        "source activate vggish"
      ],
      "execution_count": null,
      "outputs": []
    },
    {
      "cell_type": "code",
      "metadata": {
        "colab": {
          "base_uri": "https://localhost:8080/"
        },
        "id": "_ViEcyKOntpm",
        "outputId": "0d8386be-0a20-4f4d-e541-352d548a5eca"
      },
      "source": [
        "!ls"
      ],
      "execution_count": null,
      "outputs": [
        {
          "output_type": "stream",
          "text": [
            "Miniconda3-4.5.4-Linux-x86_64.sh  sample_data  video_features\n"
          ],
          "name": "stdout"
        }
      ]
    },
    {
      "cell_type": "code",
      "metadata": {
        "colab": {
          "base_uri": "https://localhost:8080/"
        },
        "id": "r-J_QpK5_enq",
        "outputId": "2e583a28-0b6b-4c91-d387-628305f5adb8"
      },
      "source": [
        "%cd video_features/"
      ],
      "execution_count": null,
      "outputs": [
        {
          "output_type": "stream",
          "text": [
            "/content/video_features\n"
          ],
          "name": "stdout"
        }
      ]
    },
    {
      "cell_type": "markdown",
      "metadata": {
        "id": "kl7KquNHCikh"
      },
      "source": [
        "#### May need to manually download the checkpoint from the url below and upload it to the path `video_features/models/vggish/checkpoints` if the `wget` cell doesn't work (or just skip this cell entirely and upload manually)\n",
        "\n",
        "**Disclaimer: The checkpoint is ~300MB and can take some time to upload depending on your internet speed**\n",
        "\n",
        "**Disclaimer 2: If you do run the following cell and find that the command to generate VGGish features (the `python main.py` command) fails, you may have to restart the runtime, run from the beginning, skip this command, and manually upload the `vggish_model.ckpt` file to the appropriate path**"
      ]
    },
    {
      "cell_type": "code",
      "metadata": {
        "id": "YAiExN8EXDNM"
      },
      "source": [
        "%%bash\n",
        "wget https://storage.googleapis.com/audioset/vggish_model.ckpt -P ./models/vggish/checkpoints"
      ],
      "execution_count": null,
      "outputs": []
    },
    {
      "cell_type": "code",
      "metadata": {
        "colab": {
          "base_uri": "https://localhost:8080/"
        },
        "id": "dIYKTWC4SQsW",
        "outputId": "fed2cafa-4c50-4fda-f862-27fa6cd2ef19"
      },
      "source": [
        "%%bash\n",
        "cd models/vggish/checkpoints #Check to see if vggish_model.ckpt was uploaded to appropriate folder \n",
        "ls"
      ],
      "execution_count": null,
      "outputs": [
        {
          "output_type": "stream",
          "text": [
            "skiing_video_flow.npy\n",
            "vggish_model.ckpt\n",
            "vggish_pca_params.npz\n"
          ],
          "name": "stdout"
        }
      ]
    },
    {
      "cell_type": "markdown",
      "metadata": {
        "id": "v_oiBhLiD_eD"
      },
      "source": [
        "Make a directory called `test` (`video_features/test`) to hold the video (mp4) you want to extract vggish features from. Then upload from desktop to this folder"
      ]
    },
    {
      "cell_type": "code",
      "metadata": {
        "id": "HbzX1fIs__vj"
      },
      "source": [
        "mkdir test"
      ],
      "execution_count": null,
      "outputs": []
    },
    {
      "cell_type": "markdown",
      "metadata": {
        "id": "fUoi7jBJ2wPL"
      },
      "source": [
        "Install the following dependencies/libraries\n",
        "\n",
        "**You may need to play around with the dependencies and versions in case something doesn't work. It was very finicky when I tried it out**"
      ]
    },
    {
      "cell_type": "code",
      "metadata": {
        "id": "7IwqsF1D3Bii"
      },
      "source": [
        "%%bash\n",
        "nvcc --version #Check NVIDIA version"
      ],
      "execution_count": null,
      "outputs": []
    },
    {
      "cell_type": "code",
      "metadata": {
        "id": "2CVgNZe03CAg"
      },
      "source": [
        "!nvidia-smi #Check CUDA version"
      ],
      "execution_count": null,
      "outputs": []
    },
    {
      "cell_type": "code",
      "metadata": {
        "id": "VK0l2kQBagQz"
      },
      "source": [
        "!pip install torch==1.4"
      ],
      "execution_count": null,
      "outputs": []
    },
    {
      "cell_type": "code",
      "metadata": {
        "id": "rzXEIAsMaii9"
      },
      "source": [
        "!pip install resampy"
      ],
      "execution_count": null,
      "outputs": []
    },
    {
      "cell_type": "code",
      "metadata": {
        "id": "beJEMNxsbCYY"
      },
      "source": [
        "!pip install soundfile"
      ],
      "execution_count": null,
      "outputs": []
    },
    {
      "cell_type": "code",
      "metadata": {
        "id": "gZU5-KjLbtJw"
      },
      "source": [
        "!pip install tensorflow==1.15"
      ],
      "execution_count": null,
      "outputs": []
    },
    {
      "cell_type": "code",
      "metadata": {
        "id": "ZWoYNIH73Exw"
      },
      "source": [
        "pip freeze"
      ],
      "execution_count": null,
      "outputs": []
    },
    {
      "cell_type": "markdown",
      "metadata": {
        "id": "QBnFyHZv2cab"
      },
      "source": [
        "### **Make sure to download the vggish npy file generated to your desktop after running the following command so that you don't lose it when the runtime disconnects**"
      ]
    },
    {
      "cell_type": "code",
      "metadata": {
        "colab": {
          "base_uri": "https://localhost:8080/"
        },
        "id": "PSF4AkJ-Z7cc",
        "outputId": "41d1c052-4288-46be-b0ad-d9af4d31b480"
      },
      "source": [
        "%%bash\n",
        "python main.py \\\n",
        "    --feature_type vggish \\\n",
        "    --on_extraction save_numpy \\\n",
        "    --device_ids 0 \\\n",
        "    --video_paths ./test/women_long_jump.mp4 \\\n",
        "    --output_path ./test/"
      ],
      "execution_count": null,
      "outputs": [
        {
          "output_type": "stream",
          "text": [
            "Saving features to ./test/\n"
          ],
          "name": "stdout"
        },
        {
          "output_type": "stream",
          "text": [
            "WARNING:tensorflow:\n",
            "The TensorFlow contrib module will not be included in TensorFlow 2.0.\n",
            "For more information, please see:\n",
            "  * https://github.com/tensorflow/community/blob/master/rfcs/20180907-contrib-sunset.md\n",
            "  * https://github.com/tensorflow/addons\n",
            "  * https://github.com/tensorflow/io (for I/O related ops)\n",
            "If you depend on functionality not listed there, please file an issue.\n",
            "\n",
            "\r  0%|          | 0/1 [00:00<?, ?it/s]\r100%|██████████| 1/1 [00:08<00:00,  8.16s/it]\r100%|██████████| 1/1 [00:08<00:00,  8.17s/it]\n"
          ],
          "name": "stderr"
        }
      ]
    }
  ]
}