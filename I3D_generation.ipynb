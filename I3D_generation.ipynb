{
  "nbformat": 4,
  "nbformat_minor": 0,
  "metadata": {
    "colab": {
      "name": "I3D_generation.ipynb",
      "provenance": [],
      "collapsed_sections": [],
      "toc_visible": true
    },
    "kernelspec": {
      "name": "python3",
      "display_name": "Python 3"
    },
    "accelerator": "GPU"
  },
  "cells": [
    {
      "cell_type": "markdown",
      "metadata": {
        "id": "R54IH24L3Qsq"
      },
      "source": [
        "### **Before you begin, make sure to connect to a GPU runtime (go to Runtime -> Change runtime type -> pick GPU as hardware accelerator and save -> Then click \"Connect\" in the top right corner of main page**"
      ]
    },
    {
      "cell_type": "markdown",
      "metadata": {
        "id": "HM8mKx4Q3S-O"
      },
      "source": [
        "Run to make sure you can use CuPy library (a dependency for this project)"
      ]
    },
    {
      "cell_type": "code",
      "metadata": {
        "id": "Kc2HgRZEVg8z"
      },
      "source": [
        "import cupy as cp"
      ],
      "execution_count": null,
      "outputs": []
    },
    {
      "cell_type": "code",
      "metadata": {
        "colab": {
          "base_uri": "https://localhost:8080/"
        },
        "id": "qHMDqE9FVqbW",
        "outputId": "dbcc620d-2be3-4d9b-d0a6-e0cc6e16b638"
      },
      "source": [
        "z = cp.arange(6).reshape(2, 3).astype('f')\n",
        "z"
      ],
      "execution_count": null,
      "outputs": [
        {
          "output_type": "execute_result",
          "data": {
            "text/plain": [
              "array([[0., 1., 2.],\n",
              "       [3., 4., 5.]], dtype=float32)"
            ]
          },
          "metadata": {
            "tags": []
          },
          "execution_count": 2
        }
      ]
    },
    {
      "cell_type": "markdown",
      "metadata": {
        "id": "md2ETehu3Vo7"
      },
      "source": [
        "## Run code needed to use conda"
      ]
    },
    {
      "cell_type": "code",
      "metadata": {
        "id": "ZW_3eQ-uVwTC"
      },
      "source": [
        "%%bash\n",
        "MINICONDA_INSTALLER_SCRIPT=Miniconda3-4.5.4-Linux-x86_64.sh\n",
        "MINICONDA_PREFIX=/usr/local\n",
        "wget https://repo.continuum.io/miniconda/$MINICONDA_INSTALLER_SCRIPT\n",
        "chmod +x $MINICONDA_INSTALLER_SCRIPT\n",
        "./$MINICONDA_INSTALLER_SCRIPT -b -f -p $MINICONDA_PREFIX"
      ],
      "execution_count": null,
      "outputs": []
    },
    {
      "cell_type": "code",
      "metadata": {
        "colab": {
          "base_uri": "https://localhost:8080/"
        },
        "id": "dDuqtObQVyGz",
        "outputId": "dc8ff9cc-b3dd-4c73-a718-6ca838ac1cd6"
      },
      "source": [
        "!which conda # should return /usr/local/bin/conda"
      ],
      "execution_count": null,
      "outputs": [
        {
          "output_type": "stream",
          "text": [
            "/usr/local/bin/conda\n"
          ],
          "name": "stdout"
        }
      ]
    },
    {
      "cell_type": "code",
      "metadata": {
        "colab": {
          "base_uri": "https://localhost:8080/"
        },
        "id": "D74v8xSUVzYL",
        "outputId": "288db03b-c398-4401-b402-a14e1be51e81"
      },
      "source": [
        "!conda --version"
      ],
      "execution_count": null,
      "outputs": [
        {
          "output_type": "stream",
          "text": [
            "conda 4.5.4\n"
          ],
          "name": "stdout"
        }
      ]
    },
    {
      "cell_type": "code",
      "metadata": {
        "colab": {
          "base_uri": "https://localhost:8080/"
        },
        "id": "rkzoLnm0V0-7",
        "outputId": "6a0dcdcc-f0bd-4f37-df64-c3de6d625906"
      },
      "source": [
        "!which python # still returns /usr/local/bin/python"
      ],
      "execution_count": null,
      "outputs": [
        {
          "output_type": "stream",
          "text": [
            "/usr/local/bin/python\n"
          ],
          "name": "stdout"
        }
      ]
    },
    {
      "cell_type": "code",
      "metadata": {
        "colab": {
          "base_uri": "https://localhost:8080/"
        },
        "id": "mk98BO9eV3TY",
        "outputId": "6557328d-e095-4511-8c85-f7f19d3643d4"
      },
      "source": [
        "!python --version"
      ],
      "execution_count": null,
      "outputs": [
        {
          "output_type": "stream",
          "text": [
            "Python 3.6.5 :: Anaconda, Inc.\n"
          ],
          "name": "stdout"
        }
      ]
    },
    {
      "cell_type": "code",
      "metadata": {
        "id": "m9yJgwx5V5AZ"
      },
      "source": [
        "%%bash\n",
        "conda install --channel defaults conda python=3.6 --yes\n",
        "conda update --channel defaults --all --yes"
      ],
      "execution_count": null,
      "outputs": []
    },
    {
      "cell_type": "code",
      "metadata": {
        "colab": {
          "base_uri": "https://localhost:8080/"
        },
        "id": "UXqu57YbV6pL",
        "outputId": "56ce60d6-3be0-41cd-8236-a4c9d41488d6"
      },
      "source": [
        "!conda --version "
      ],
      "execution_count": null,
      "outputs": [
        {
          "output_type": "stream",
          "text": [
            "conda 4.9.2\n"
          ],
          "name": "stdout"
        }
      ]
    },
    {
      "cell_type": "code",
      "metadata": {
        "colab": {
          "base_uri": "https://localhost:8080/"
        },
        "id": "3LG00sH5V8Wh",
        "outputId": "b7a2680f-b7df-492d-815d-a9b9ce3280b2"
      },
      "source": [
        "!python --version "
      ],
      "execution_count": null,
      "outputs": [
        {
          "output_type": "stream",
          "text": [
            "Python 3.6.12 :: Anaconda, Inc.\n"
          ],
          "name": "stdout"
        }
      ]
    },
    {
      "cell_type": "code",
      "metadata": {
        "colab": {
          "base_uri": "https://localhost:8080/"
        },
        "id": "ydBk8zbFV9hi",
        "outputId": "f1524620-ab12-4657-ce3f-cdfe8583631b"
      },
      "source": [
        "import sys\n",
        "sys.path"
      ],
      "execution_count": null,
      "outputs": [
        {
          "output_type": "execute_result",
          "data": {
            "text/plain": [
              "['',\n",
              " '/env/python',\n",
              " '/usr/lib/python36.zip',\n",
              " '/usr/lib/python3.6',\n",
              " '/usr/lib/python3.6/lib-dynload',\n",
              " '/usr/local/lib/python3.6/dist-packages',\n",
              " '/usr/lib/python3/dist-packages',\n",
              " '/usr/local/lib/python3.6/dist-packages/IPython/extensions',\n",
              " '/root/.ipython']"
            ]
          },
          "metadata": {
            "tags": []
          },
          "execution_count": 11
        }
      ]
    },
    {
      "cell_type": "code",
      "metadata": {
        "id": "uiP2196kV-tx"
      },
      "source": [
        "!ls /usr/local/lib/python3.6/dist-packages"
      ],
      "execution_count": null,
      "outputs": []
    },
    {
      "cell_type": "code",
      "metadata": {
        "id": "kc4-GbKjWAuB"
      },
      "source": [
        "import sys\n",
        "_ = (sys.path\n",
        "        .append(\"/usr/local/lib/python3.6/site-packages\"))"
      ],
      "execution_count": null,
      "outputs": []
    },
    {
      "cell_type": "code",
      "metadata": {
        "id": "OwPXsviLWCvh"
      },
      "source": [
        "!conda install --channel conda-forge featuretools --yes"
      ],
      "execution_count": null,
      "outputs": []
    },
    {
      "cell_type": "markdown",
      "metadata": {
        "id": "3zZLImeaY2lH"
      },
      "source": [
        "## I3D feature extraction begins here"
      ]
    },
    {
      "cell_type": "code",
      "metadata": {
        "colab": {
          "base_uri": "https://localhost:8080/"
        },
        "id": "wbSb96rPWEjA",
        "outputId": "309cf927-45db-463a-9857-1d47742323e8"
      },
      "source": [
        "!git clone --recursive https://github.com/v-iashin/video_features.git"
      ],
      "execution_count": null,
      "outputs": [
        {
          "output_type": "stream",
          "text": [
            "Cloning into 'video_features'...\n",
            "remote: Enumerating objects: 365, done.\u001b[K\n",
            "remote: Counting objects: 100% (365/365), done.\u001b[K\n",
            "remote: Compressing objects: 100% (228/228), done.\u001b[K\n",
            "remote: Total 395 (delta 145), reused 312 (delta 95), pack-reused 30\u001b[K\n",
            "Receiving objects: 100% (395/395), 162.69 MiB | 34.09 MiB/s, done.\n",
            "Resolving deltas: 100% (146/146), done.\n",
            "Checking out files: 100% (65/65), done.\n"
          ],
          "name": "stdout"
        }
      ]
    },
    {
      "cell_type": "markdown",
      "metadata": {
        "id": "hdCjGYbTE4VH"
      },
      "source": [
        "Can create conda environment using `conda_env_torch_zoo.yml `or `conda_env_pwc.yml` file. If using conda_env_torch_zoo, activate torch_zoo in cells below and set `--flow_type` to `raft`. If using conda_env_pwc, activate pwc in cells below and set `--flow_type` to `pwc`.\n",
        "\n",
        "RAFT extraction is slower but more accurate."
      ]
    },
    {
      "cell_type": "code",
      "metadata": {
        "id": "7WuT9lG1WQs-"
      },
      "source": [
        "%%bash\n",
        "cd ./video_features\n",
        "conda env create -f conda_env_torch_zoo.yml"
      ],
      "execution_count": null,
      "outputs": []
    },
    {
      "cell_type": "code",
      "metadata": {
        "colab": {
          "base_uri": "https://localhost:8080/"
        },
        "id": "n-8FKBTMWh3r",
        "outputId": "a80e1790-9ffa-4585-cc6c-0e431ced0dcf"
      },
      "source": [
        "%%bash\n",
        "conda info --envs"
      ],
      "execution_count": null,
      "outputs": [
        {
          "output_type": "stream",
          "text": [
            "# conda environments:\n",
            "#\n",
            "base                  *  /usr/local\n",
            "torch_zoo                /usr/local/envs/torch_zoo\n",
            "\n"
          ],
          "name": "stdout"
        }
      ]
    },
    {
      "cell_type": "code",
      "metadata": {
        "id": "Gafo1rWwW68-"
      },
      "source": [
        "%%bash\n",
        "source activate torch_zoo"
      ],
      "execution_count": null,
      "outputs": []
    },
    {
      "cell_type": "code",
      "metadata": {
        "colab": {
          "base_uri": "https://localhost:8080/"
        },
        "id": "_ViEcyKOntpm",
        "outputId": "6e01ad47-0ab2-4637-e9b0-7cf22d8b4847"
      },
      "source": [
        "!ls"
      ],
      "execution_count": null,
      "outputs": [
        {
          "output_type": "stream",
          "text": [
            "Miniconda3-4.5.4-Linux-x86_64.sh  sample_data  video_features\n"
          ],
          "name": "stdout"
        }
      ]
    },
    {
      "cell_type": "code",
      "metadata": {
        "colab": {
          "base_uri": "https://localhost:8080/"
        },
        "id": "2B8ZdZ47aFqM",
        "outputId": "1a8b3a56-0461-428a-c7d7-2d38adb7ce82"
      },
      "source": [
        "%cd video_features/ #should be /content/video_features"
      ],
      "execution_count": null,
      "outputs": [
        {
          "output_type": "stream",
          "text": [
            "/content/video_features\n"
          ],
          "name": "stdout"
        }
      ]
    },
    {
      "cell_type": "markdown",
      "metadata": {
        "id": "MoRslZGLEuM6"
      },
      "source": [
        "Make a directory called `test` (`video_features/test`) to hold the video (mp4) you want to extract i3d features from. Then upload from desktop to this folder"
      ]
    },
    {
      "cell_type": "code",
      "metadata": {
        "id": "0S1vpmvd5mfp"
      },
      "source": [
        "mkdir test"
      ],
      "execution_count": null,
      "outputs": []
    },
    {
      "cell_type": "markdown",
      "metadata": {
        "id": "hO5zGCFC4tk6"
      },
      "source": [
        "Install the following dependencies/libraries\n",
        "\n",
        "**You may need to play around with the dependencies and versions in case something doesn't work. It was very finicky when I tried it out**"
      ]
    },
    {
      "cell_type": "code",
      "metadata": {
        "id": "i8GfVon14wAE"
      },
      "source": [
        "%%bash\n",
        "nvcc --version #Check NVIDIA version"
      ],
      "execution_count": null,
      "outputs": []
    },
    {
      "cell_type": "code",
      "metadata": {
        "id": "4lVZz2Gt48zE"
      },
      "source": [
        "!nvidia-smi #Check CUDA version"
      ],
      "execution_count": null,
      "outputs": []
    },
    {
      "cell_type": "code",
      "metadata": {
        "id": "JP3ltwV57Aq1"
      },
      "source": [
        "!pip install torch==1.5.0+cu101 torchvision==0.6.0+cu101 -f https://download.pytorch.org/whl/torch_stable.html"
      ],
      "execution_count": null,
      "outputs": []
    },
    {
      "cell_type": "code",
      "metadata": {
        "id": "0hFIRwpP65Be"
      },
      "source": [
        "!pip install opencv-python"
      ],
      "execution_count": null,
      "outputs": []
    },
    {
      "cell_type": "code",
      "metadata": {
        "id": "rzXEIAsMaii9"
      },
      "source": [
        "!pip install resampy"
      ],
      "execution_count": null,
      "outputs": []
    },
    {
      "cell_type": "code",
      "metadata": {
        "id": "beJEMNxsbCYY"
      },
      "source": [
        "!pip install soundfile"
      ],
      "execution_count": null,
      "outputs": []
    },
    {
      "cell_type": "code",
      "metadata": {
        "id": "gZU5-KjLbtJw"
      },
      "source": [
        "!pip install tensorflow==1.15"
      ],
      "execution_count": null,
      "outputs": []
    },
    {
      "cell_type": "code",
      "metadata": {
        "id": "4RMPkodGbuyF"
      },
      "source": [
        "pip freeze"
      ],
      "execution_count": null,
      "outputs": []
    },
    {
      "cell_type": "markdown",
      "metadata": {
        "id": "PKCPY5yD4krG"
      },
      "source": [
        "### **Make sure to download the npy files generated to your desktop after running the following command so that you don't lose them when the runtime disconnects**"
      ]
    },
    {
      "cell_type": "code",
      "metadata": {
        "colab": {
          "base_uri": "https://localhost:8080/"
        },
        "id": "PSF4AkJ-Z7cc",
        "outputId": "b47c55db-3c30-4591-b99a-f9e4d8d0cace"
      },
      "source": [
        "%%bash\n",
        "\n",
        "python main.py \\\n",
        "    --feature_type i3d \\\n",
        "    --on_extraction save_numpy \\\n",
        "    --flow_type raft \\\n",
        "    --device_ids 0 2 \\\n",
        "    --extraction_fps 25 \\\n",
        "    --video_paths ./test/skiing_video.mp4 \\\n",
        "    --output_path ./test/"
      ],
      "execution_count": null,
      "outputs": [
        {
          "output_type": "stream",
          "text": [
            "Saving features to ./test/\n",
            "len() of unsized object\n",
            "Extraction failed at: ./test/skiing_video.mp4. Continuing extraction\n"
          ],
          "name": "stdout"
        },
        {
          "output_type": "stream",
          "text": [
            "\r  0%|          | 0/1 [00:00<?, ?it/s]/pytorch/torch/csrc/utils/tensor_numpy.cpp:141: UserWarning: The given NumPy array is not writeable, and PyTorch does not support non-writeable tensors. This means you can write to the underlying (supposedly non-writeable) NumPy array using the tensor. You may want to copy the array to protect its data or make it writeable before converting it to a tensor. This type of warning will be suppressed for the rest of this program.\n",
            "\r100%|██████████| 1/1 [00:53<00:00, 53.43s/it]\r100%|██████████| 1/1 [00:53<00:00, 53.43s/it]\n"
          ],
          "name": "stderr"
        }
      ]
    }
  ]
}